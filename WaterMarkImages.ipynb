{
 "cells": [
  {
   "cell_type": "code",
   "execution_count": 5,
   "metadata": {},
   "outputs": [],
   "source": [
    "#Import required Image library\n",
    "from PIL import Image, ImageDraw, ImageFont\n",
    "import os\n",
    "import re\n",
    "import cv2"
   ]
  },
  {
   "cell_type": "code",
   "execution_count": 6,
   "metadata": {},
   "outputs": [],
   "source": [
    "def watermark(im):\n",
    "    #Create an Image Object from an Image\n",
    "    #im = Image.open('IMG_5573.jpg')\n",
    "    width, height = im.size\n",
    "\n",
    "    draw = ImageDraw.Draw(im)\n",
    "    text = \"©rogermd-2022\"\n",
    "\n",
    "    font = ImageFont.truetype('arial.ttf', 36)\n",
    "    textwidth, textheight = draw.textsize(text, font)\n",
    "\n",
    "    # calculate the x,y coordinates of the text\n",
    "    margin = 10\n",
    "    x = width - textwidth - margin\n",
    "    y = height - textheight - margin\n",
    "\n",
    "    # draw watermark in the bottom right corner\n",
    "    draw.text((x, y), text, font=font)\n",
    "    #im.show()\n",
    "\n",
    "    #Save watermarked image\n",
    "    im.save(\"procesadas/\"+\"watermarked_\" + im.filename)\n",
    "    return(im.filename)"
   ]
  }
 ],
 "metadata": {
  "kernelspec": {
   "display_name": "Python 3.10.5 64-bit",
   "language": "python",
   "name": "python3"
  },
  "language_info": {
   "codemirror_mode": {
    "name": "ipython",
    "version": 3
   },
   "file_extension": ".py",
   "mimetype": "text/x-python",
   "name": "python",
   "nbconvert_exporter": "python",
   "pygments_lexer": "ipython3",
   "version": "3.10.5"
  },
  "orig_nbformat": 4,
  "vscode": {
   "interpreter": {
    "hash": "d7546de2d5b66e6bb4051f93f462cf1f21acc5c70ac66712f7c9fa60f386dd80"
   }
  }
 },
 "nbformat": 4,
 "nbformat_minor": 2
}
