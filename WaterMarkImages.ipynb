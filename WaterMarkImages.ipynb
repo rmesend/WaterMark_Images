{
 "cells": [
  {
   "cell_type": "code",
   "execution_count": 41,
   "metadata": {},
   "outputs": [],
   "source": [
    "#Import required Image library\n",
    "from PIL import Image, ImageDraw, ImageFont\n",
    "import os\n",
    "import re\n",
    "import cv2"
   ]
  },
  {
   "cell_type": "code",
   "execution_count": 42,
   "metadata": {},
   "outputs": [],
   "source": [
    "def watermark(im):\n",
    "    #Create an Image Object from an Image\n",
    "    #im = Image.open('IMG_5573.jpg')\n",
    "    width, height = im.size\n",
    "\n",
    "    draw = ImageDraw.Draw(im)\n",
    "    text = \"©rogermd-2022\"\n",
    "\n",
    "    font = ImageFont.truetype('arial.ttf', 36)\n",
    "    textwidth, textheight = draw.textsize(text, font)\n",
    "\n",
    "    # calculate the x,y coordinates of the text\n",
    "    margin = 10\n",
    "    x = width - textwidth - margin\n",
    "    y = height - textheight - margin\n",
    "\n",
    "    # draw watermark in the bottom right corner\n",
    "    draw.text((x, y), text, font=font)\n",
    "    #im.show()\n",
    "\n",
    "    #Save watermarked image\n",
    "    im.save(\"procesadas/\" + im.filename)\n",
    "    return(im.filename)"
   ]
  },
  {
   "cell_type": "code",
   "execution_count": 43,
   "metadata": {},
   "outputs": [
    {
     "name": "stdout",
     "output_type": "stream",
     "text": [
      "IMG_5573.JPG\n"
     ]
    },
    {
     "name": "stderr",
     "output_type": "stream",
     "text": [
      "C:\\Users\\Administrador\\AppData\\Local\\Temp\\ipykernel_23480\\1061256778.py:10: DeprecationWarning: textsize is deprecated and will be removed in Pillow 10 (2023-07-01). Use textbbox or textlength instead.\n",
      "  textwidth, textheight = draw.textsize(text, font)\n"
     ]
    }
   ],
   "source": [
    "import cv2 \n",
    "import os \n",
    "import glob \n",
    "img_dir = \"\"\n",
    "data_path = os.path.join(img_dir,'*g') \n",
    "files = glob.glob(data_path) \n",
    "for f1 in files:\n",
    "    print(f1)\n",
    "    im = Image.open(f1)\n",
    "    watermark(im)"
   ]
  }
 ],
 "metadata": {
  "kernelspec": {
   "display_name": "Python 3.10.5 64-bit",
   "language": "python",
   "name": "python3"
  },
  "language_info": {
   "codemirror_mode": {
    "name": "ipython",
    "version": 3
   },
   "file_extension": ".py",
   "mimetype": "text/x-python",
   "name": "python",
   "nbconvert_exporter": "python",
   "pygments_lexer": "ipython3",
   "version": "3.10.5"
  },
  "orig_nbformat": 4,
  "vscode": {
   "interpreter": {
    "hash": "d7546de2d5b66e6bb4051f93f462cf1f21acc5c70ac66712f7c9fa60f386dd80"
   }
  }
 },
 "nbformat": 4,
 "nbformat_minor": 2
}
